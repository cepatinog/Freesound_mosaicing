{
 "cells": [
  {
   "cell_type": "markdown",
   "metadata": {},
   "source": [
    "# Create My Own Sound Collection\n",
    "\n",
    "In this notebook, we will build our own collection of sound fonts by querying the Freesound API. We will use modular code stored in the **src** folder to:\n",
    "- Query Freesound for sounds matching our desired keywords.\n",
    "- Download high-quality previews.\n",
    "- Store relevant metadata in a CSV file.\n",
    "\n",
    "This approach follows the structure of the original Notebook 1 from the AMPLAB module, our implementation is modular.\n",
    "\n"
   ]
  },
  {
   "cell_type": "markdown",
   "metadata": {},
   "source": [
    "## Environment Setup and Imports"
   ]
  },
  {
   "cell_type": "markdown",
   "metadata": {},
   "source": [
    "This cell confirms that our configuration (API key, file paths, etc.) is loaded correctly from src/config.py and that our functions for querying Freesound are accessible."
   ]
  },
  {
   "cell_type": "code",
   "execution_count": 1,
   "metadata": {},
   "outputs": [
    {
     "name": "stdout",
     "output_type": "stream",
     "text": [
      "Freesound API Key: zr5kUObkkKtoSIiWGRPG6DPNUMOxdU1ercdOGcaJ\n",
      "Files Directory: ../data/raw\n",
      "Metadata CSV File: ../data/metadata/fonts_collection.csv\n"
     ]
    }
   ],
   "source": [
    "# Ensure that your virtual environment is activated and dependencies are installed (see requirements.txt).\n",
    "\n",
    "# Import configuration settings and utility modules from src\n",
    "import os\n",
    "import pandas as pd\n",
    "import sys\n",
    "\n",
    "# Añadir la ruta absoluta del directorio raíz del proyecto\n",
    "sys.path.append(os.path.abspath(\"..\"))\n",
    "\n",
    "# Our configuration file contains API keys, file paths, etc.\n",
    "from src import config  \n",
    "# Our sound_collection module includes functions to query Freesound and process sound records.\n",
    "from src.sound_collection import query_freesound, download_sound_preview, make_metadata_record\n",
    "\n",
    "# Display configuration to confirm settings\n",
    "print(\"Freesound API Key:\", config.FREESOUND_API_KEY)\n",
    "print(\"Files Directory:\", config.RAW_DIR)\n",
    "print(\"Metadata CSV File:\", config.DATAFRAME_FILENAME)\n"
   ]
  },
  {
   "cell_type": "markdown",
   "metadata": {},
   "source": [
    "## Prepare the Data Directory (Code)"
   ]
  },
  {
   "cell_type": "code",
   "execution_count": 2,
   "metadata": {},
   "outputs": [
    {
     "name": "stdout",
     "output_type": "stream",
     "text": [
      "Directory ../data/raw already exists.\n",
      "Directory ../data/processed already exists.\n",
      "Directory ../data/metadata already exists.\n"
     ]
    }
   ],
   "source": [
    "# Check if the directory to store downloaded sound files exists; if not, create it.\n",
    "for folder in [config.RAW_DIR, config.PROCESSED_DIR, config.METADATA_DIR]:\n",
    "    if not os.path.exists(folder):\n",
    "        os.makedirs(folder)\n",
    "        print(f\"Created directory: {folder}\")\n",
    "    else:\n",
    "        print(f\"Directory {folder} already exists.\")\n",
    "\n"
   ]
  }
 ],
 "metadata": {
  "kernelspec": {
   "display_name": "freesound",
   "language": "python",
   "name": "python3"
  },
  "language_info": {
   "codemirror_mode": {
    "name": "ipython",
    "version": 3
   },
   "file_extension": ".py",
   "mimetype": "text/x-python",
   "name": "python",
   "nbconvert_exporter": "python",
   "pygments_lexer": "ipython3",
   "version": "3.10.13"
  }
 },
 "nbformat": 4,
 "nbformat_minor": 2
}
