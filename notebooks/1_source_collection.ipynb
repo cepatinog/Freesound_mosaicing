{
 "cells": [
  {
   "cell_type": "markdown",
   "metadata": {},
   "source": [
    "# Create My Own Sound Collection\n",
    "\n",
    "In this notebook, we will build our own collection of sound fonts by querying the Freesound API. We will use modular code stored in the **src** folder to:\n",
    "- Query Freesound for sounds matching our desired keywords.\n",
    "- Download high-quality previews.\n",
    "- Store relevant metadata in a CSV file.\n",
    "\n",
    "This approach follows the structure of the original Notebook 1 from the AMPLAB module, our implementation is modular.\n",
    "\n"
   ]
  },
  {
   "cell_type": "markdown",
   "metadata": {},
   "source": [
    "## Environment Setup and Imports"
   ]
  },
  {
   "cell_type": "markdown",
   "metadata": {},
   "source": [
    "This cell confirms that our configuration (API key, file paths, etc.) is loaded correctly from src/config.py and that our functions for querying Freesound are accessible."
   ]
  },
  {
   "cell_type": "code",
   "execution_count": 1,
   "metadata": {},
   "outputs": [
    {
     "name": "stdout",
     "output_type": "stream",
     "text": [
      "Freesound API Key: zr5kUObkkKtoSIiWGRPG6DPNUMOxdU1ercdOGcaJ\n",
      "Files Directory: ../data/raw\n",
      "Metadata CSV File: ../data/metadata/fonts_collection.csv\n"
     ]
    }
   ],
   "source": [
    "# Ensure that your virtual environment is activated and dependencies are installed (see requirements.txt).\n",
    "\n",
    "# Import configuration settings and utility modules from src\n",
    "import os\n",
    "import pandas as pd\n",
    "import sys\n",
    "\n",
    "# Añadir la ruta absoluta del directorio raíz del proyecto\n",
    "sys.path.append(os.path.abspath(\"..\"))\n",
    "\n",
    "# Our configuration file contains API keys, file paths, etc.\n",
    "from src import config  \n",
    "# Our sound_collection module includes functions to query Freesound and process sound records.\n",
    "from src.sound_collection import query_freesound, download_sound_preview, make_metadata_record\n",
    "\n",
    "# Display configuration to confirm settings\n",
    "print(\"Freesound API Key:\", config.FREESOUND_API_KEY)\n",
    "print(\"Files Directory:\", config.RAW_DIR)\n",
    "print(\"Metadata CSV File:\", config.DATAFRAME_FILENAME)\n"
   ]
  },
  {
   "cell_type": "markdown",
   "metadata": {},
   "source": [
    "## Prepare the Data Directory (Code)"
   ]
  },
  {
   "cell_type": "code",
   "execution_count": 2,
   "metadata": {},
   "outputs": [
    {
     "name": "stdout",
     "output_type": "stream",
     "text": [
      "Directory ../data/raw already exists.\n",
      "Directory ../data/processed already exists.\n",
      "Directory ../data/metadata already exists.\n"
     ]
    }
   ],
   "source": [
    "# Check if the directory to store downloaded sound files exists; if not, create it.\n",
    "for folder in [config.RAW_DIR, config.PROCESSED_DIR, config.METADATA_DIR]:\n",
    "    if not os.path.exists(folder):\n",
    "        os.makedirs(folder)\n",
    "        print(f\"Created directory: {folder}\")\n",
    "    else:\n",
    "        print(f\"Directory {folder} already exists.\")\n"
   ]
  },
  {
   "cell_type": "markdown",
   "metadata": {},
   "source": [
    "## Define Freesound Query Parameters"
   ]
  },
  {
   "cell_type": "markdown",
   "metadata": {},
   "source": [
    "Adjust the queries to target the type of sound “fonts” you want. For example, “dog bark” might be used as a percussive element, while “vowels” can add a human quality. The filters ensure that only sounds with appropriate durations are retrieved."
   ]
  },
  {
   "cell_type": "code",
   "execution_count": 3,
   "metadata": {},
   "outputs": [
    {
     "name": "stdout",
     "output_type": "stream",
     "text": [
      "Freesound Queries:\n",
      "{'query': 'electronic soundscapes', 'filter': 'duration:[5 TO 30]', 'num_results': 20}\n",
      "{'query': 'percussion loops', 'filter': 'duration:[1 TO 5]', 'num_results': 20}\n",
      "{'query': 'violin solo', 'filter': 'duration:[3 TO 10]', 'num_results': 20}\n",
      "{'query': 'bass groove', 'filter': 'duration:[3 TO 10]', 'num_results': 20}\n",
      "{'query': 'synthesizer pad', 'filter': 'duration:[5 TO 20]', 'num_results': 20}\n"
     ]
    }
   ],
   "source": [
    "# Define a list of queries to build our sound collection.\n",
    "# Here we customize our search terms and filters based on our creative vision.\n",
    "# Define a new set of queries to capture electronic sounds, percussions, violins, basses, and synthesizers.\n",
    "freesound_queries = [\n",
    "    {\n",
    "        'query': 'electronic soundscapes',\n",
    "        'filter': 'duration:[5 TO 30]',  # adjust duration as needed\n",
    "        'num_results': 20,\n",
    "    },\n",
    "    {\n",
    "        'query': 'percussion loops',\n",
    "        'filter': 'duration:[1 TO 5]',\n",
    "        'num_results': 20,\n",
    "    },\n",
    "    {\n",
    "        'query': 'violin solo',\n",
    "        'filter': 'duration:[3 TO 10]',\n",
    "        'num_results': 20,\n",
    "    },\n",
    "    {\n",
    "        'query': 'bass groove',\n",
    "        'filter': 'duration:[3 TO 10]',\n",
    "        'num_results': 20,\n",
    "    },\n",
    "    {\n",
    "        'query': 'synthesizer pad',\n",
    "        'filter': 'duration:[5 TO 20]',\n",
    "        'num_results': 20,\n",
    "    },\n",
    "]\n",
    "\n",
    "\n",
    "# Display the queries for confirmation.\n",
    "print(\"Freesound Queries:\")\n",
    "for q in freesound_queries:\n",
    "    print(q)\n"
   ]
  },
  {
   "cell_type": "markdown",
   "metadata": {},
   "source": [
    "## Query Freesound and Collect Sound Objects "
   ]
  },
  {
   "cell_type": "markdown",
   "metadata": {},
   "source": [
    "This cell uses our query_freesound function to perform the API searches. The results from each query are concatenated into one list representing our overall collection."
   ]
  },
  {
   "cell_type": "code",
   "execution_count": 4,
   "metadata": {},
   "outputs": [
    {
     "name": "stdout",
     "output_type": "stream",
     "text": [
      "Retrieved 20 sounds for query 'electronic soundscapes'.\n",
      "Retrieved 20 sounds for query 'percussion loops'.\n",
      "Retrieved 8 sounds for query 'violin solo'.\n",
      "Retrieved 20 sounds for query 'bass groove'.\n",
      "Retrieved 20 sounds for query 'synthesizer pad'.\n",
      "Total sounds retrieved: 88\n"
     ]
    }
   ],
   "source": [
    "# Initialize an empty list to store all retrieved sound objects.\n",
    "all_sounds = []\n",
    "\n",
    "# Loop through each query configuration and perform the Freesound search.\n",
    "for query_info in freesound_queries:\n",
    "    results = query_freesound(query_info['query'], query_info['filter'], query_info['num_results'])\n",
    "    print(f\"Retrieved {len(results)} sounds for query '{query_info['query']}'.\")\n",
    "    all_sounds.extend(results)\n",
    "\n",
    "print(f\"Total sounds retrieved: {len(all_sounds)}\")\n"
   ]
  },
  {
   "cell_type": "markdown",
   "metadata": {},
   "source": [
    "## Download Sound Previews"
   ]
  },
  {
   "cell_type": "code",
   "execution_count": 5,
   "metadata": {},
   "outputs": [
    {
     "name": "stdout",
     "output_type": "stream",
     "text": [
      "Downloading sound 1/88: id 729455\n",
      "Downloading sound 2/88: id 209660\n",
      "Downloading sound 3/88: id 403708\n",
      "Downloading sound 4/88: id 403709\n",
      "Downloading sound 5/88: id 403711\n",
      "Downloading sound 6/88: id 403704\n",
      "Downloading sound 7/88: id 403706\n",
      "Downloading sound 8/88: id 403712\n",
      "Downloading sound 9/88: id 403710\n",
      "Downloading sound 10/88: id 751118\n",
      "Downloading sound 11/88: id 504679\n",
      "Downloading sound 12/88: id 34015\n",
      "Downloading sound 13/88: id 24175\n",
      "Downloading sound 14/88: id 276061\n",
      "Downloading sound 15/88: id 133883\n",
      "Downloading sound 16/88: id 207730\n",
      "Downloading sound 17/88: id 640769\n",
      "Downloading sound 18/88: id 2413\n",
      "Downloading sound 19/88: id 736503\n",
      "Downloading sound 20/88: id 234019\n",
      "Downloading sound 21/88: id 198996\n",
      "Downloading sound 22/88: id 521279\n",
      "Downloading sound 23/88: id 154914\n",
      "Downloading sound 24/88: id 700902\n",
      "Downloading sound 25/88: id 102366\n",
      "Downloading sound 26/88: id 102472\n",
      "Downloading sound 27/88: id 621180\n",
      "Downloading sound 28/88: id 749826\n",
      "Downloading sound 29/88: id 738111\n",
      "Downloading sound 30/88: id 738104\n",
      "Downloading sound 31/88: id 120968\n",
      "Downloading sound 32/88: id 121026\n",
      "Downloading sound 33/88: id 121009\n",
      "Downloading sound 34/88: id 391430\n",
      "Downloading sound 35/88: id 350184\n",
      "Downloading sound 36/88: id 407739\n",
      "Downloading sound 37/88: id 249194\n",
      "Downloading sound 38/88: id 121062\n",
      "Downloading sound 39/88: id 121020\n",
      "Downloading sound 40/88: id 738143\n",
      "Downloading sound 41/88: id 516443\n",
      "Downloading sound 42/88: id 517211\n",
      "Downloading sound 43/88: id 641703\n",
      "Downloading sound 44/88: id 381268\n",
      "Downloading sound 45/88: id 373872\n",
      "Downloading sound 46/88: id 373781\n",
      "Downloading sound 47/88: id 193328\n",
      "Downloading sound 48/88: id 648108\n",
      "Downloading sound 49/88: id 413864\n",
      "Downloading sound 50/88: id 413481\n",
      "Downloading sound 51/88: id 414780\n",
      "Downloading sound 52/88: id 413356\n",
      "Downloading sound 53/88: id 704253\n",
      "Downloading sound 54/88: id 413358\n",
      "Downloading sound 55/88: id 536010\n",
      "Downloading sound 56/88: id 496243\n",
      "Downloading sound 57/88: id 591746\n",
      "Downloading sound 58/88: id 546216\n",
      "Downloading sound 59/88: id 549912\n",
      "Downloading sound 60/88: id 559519\n",
      "Downloading sound 61/88: id 413357\n",
      "Downloading sound 62/88: id 413362\n",
      "Downloading sound 63/88: id 546493\n",
      "Downloading sound 64/88: id 548251\n",
      "Downloading sound 65/88: id 655196\n",
      "Downloading sound 66/88: id 257497\n",
      "Downloading sound 67/88: id 560884\n",
      "Downloading sound 68/88: id 553945\n",
      "Downloading sound 69/88: id 11909\n",
      "Downloading sound 70/88: id 753248\n",
      "Downloading sound 71/88: id 27567\n",
      "Downloading sound 72/88: id 368707\n",
      "Downloading sound 73/88: id 11862\n",
      "Downloading sound 74/88: id 231717\n",
      "Downloading sound 75/88: id 677523\n",
      "Downloading sound 76/88: id 697037\n",
      "Downloading sound 77/88: id 585825\n",
      "Downloading sound 78/88: id 634346\n",
      "Downloading sound 79/88: id 185480\n",
      "Downloading sound 80/88: id 262353\n",
      "Downloading sound 81/88: id 245756\n",
      "Downloading sound 82/88: id 152601\n",
      "Downloading sound 83/88: id 245318\n",
      "Downloading sound 84/88: id 58958\n",
      "Downloading sound 85/88: id 242080\n",
      "Downloading sound 86/88: id 757714\n",
      "Downloading sound 87/88: id 369268\n",
      "Downloading sound 88/88: id 254914\n"
     ]
    }
   ],
   "source": [
    "# Loop through each sound and download its preview to our designated directory.\n",
    "for idx, sound in enumerate(all_sounds):\n",
    "    print(f\"Downloading sound {idx+1}/{len(all_sounds)}: id {sound.id}\")\n",
    "    download_sound_preview(sound, config.RAW_DIR)\n"
   ]
  },
  {
   "cell_type": "markdown",
   "metadata": {},
   "source": [
    "## Create Metadata Records and Save DataFrame"
   ]
  },
  {
   "cell_type": "markdown",
   "metadata": {},
   "source": [
    "The make_metadata_record function extracts key details from each sound, and we then store the entire collection in a CSV file. This DataFrame will serve as the basis for further analysis and later stages of the project."
   ]
  },
  {
   "cell_type": "code",
   "execution_count": 6,
   "metadata": {},
   "outputs": [
    {
     "name": "stdout",
     "output_type": "stream",
     "text": [
      "Saved metadata DataFrame with 88 entries to ../data/metadata/fonts_collection.csv.\n"
     ]
    }
   ],
   "source": [
    "# Build a list of metadata records for each sound using our utility function.\n",
    "metadata_records = [make_metadata_record(sound, config.RAW_DIR) for sound in all_sounds]\n",
    "\n",
    "# Create a Pandas DataFrame from the metadata records.\n",
    "df_metadata = pd.DataFrame(metadata_records)\n",
    "\n",
    "# Save the DataFrame to CSV for later use.\n",
    "df_metadata.to_csv(config.DATAFRAME_FILENAME, index=False)\n",
    "print(f\"Saved metadata DataFrame with {len(df_metadata)} entries to {config.DATAFRAME_FILENAME}.\")\n"
   ]
  },
  {
   "cell_type": "markdown",
   "metadata": {},
   "source": [
    "## Display the Metadata DataFrame"
   ]
  },
  {
   "cell_type": "markdown",
   "metadata": {},
   "source": [
    "Displaying the DataFrame allows you to visually inspect the metadata and confirm that all information (e.g., sound names, tags, file paths) has been captured correctly."
   ]
  },
  {
   "cell_type": "code",
   "execution_count": 7,
   "metadata": {},
   "outputs": [
    {
     "data": {
      "text/html": [
       "<div>\n",
       "<style scoped>\n",
       "    .dataframe tbody tr th:only-of-type {\n",
       "        vertical-align: middle;\n",
       "    }\n",
       "\n",
       "    .dataframe tbody tr th {\n",
       "        vertical-align: top;\n",
       "    }\n",
       "\n",
       "    .dataframe thead th {\n",
       "        text-align: right;\n",
       "    }\n",
       "</style>\n",
       "<table border=\"1\" class=\"dataframe\">\n",
       "  <thead>\n",
       "    <tr style=\"text-align: right;\">\n",
       "      <th></th>\n",
       "      <th>name</th>\n",
       "      <th>username</th>\n",
       "      <th>license</th>\n",
       "      <th>tags</th>\n",
       "      <th>freesound_id</th>\n",
       "      <th>path</th>\n",
       "    </tr>\n",
       "  </thead>\n",
       "  <tbody>\n",
       "    <tr>\n",
       "      <th>0</th>\n",
       "      <td>Data Corruption</td>\n",
       "      <td>staticpony1</td>\n",
       "      <td>http://creativecommons.org/publicdomain/zero/1.0/</td>\n",
       "      <td>['Sounds', 'Electric', 'EDM', 'Soundscapes', '...</td>\n",
       "      <td>729455</td>\n",
       "      <td>../data/raw/729455_4508519-hq.ogg</td>\n",
       "    </tr>\n",
       "    <tr>\n",
       "      <th>1</th>\n",
       "      <td>20131203_Electronic Device Buzzing _ZoomH2nXY.wav</td>\n",
       "      <td>Soundscape_Leuphana</td>\n",
       "      <td>http://creativecommons.org/publicdomain/zero/1.0/</td>\n",
       "      <td>['device', 'noise', 'electronic', 'electric', ...</td>\n",
       "      <td>209660</td>\n",
       "      <td>../data/raw/209660_3844637-hq.ogg</td>\n",
       "    </tr>\n",
       "    <tr>\n",
       "      <th>2</th>\n",
       "      <td>HUM 34</td>\n",
       "      <td>pabloperez</td>\n",
       "      <td>http://creativecommons.org/publicdomain/zero/1.0/</td>\n",
       "      <td>['sound', 'oscillator', 'abstract', 'electroni...</td>\n",
       "      <td>403708</td>\n",
       "      <td>../data/raw/403708_55313-hq.ogg</td>\n",
       "    </tr>\n",
       "    <tr>\n",
       "      <th>3</th>\n",
       "      <td>HUM 33</td>\n",
       "      <td>pabloperez</td>\n",
       "      <td>http://creativecommons.org/publicdomain/zero/1.0/</td>\n",
       "      <td>['sound', 'oscillator', 'abstract', 'electroni...</td>\n",
       "      <td>403709</td>\n",
       "      <td>../data/raw/403709_55313-hq.ogg</td>\n",
       "    </tr>\n",
       "    <tr>\n",
       "      <th>4</th>\n",
       "      <td>HUM 15</td>\n",
       "      <td>pabloperez</td>\n",
       "      <td>http://creativecommons.org/publicdomain/zero/1.0/</td>\n",
       "      <td>['sound', 'oscillator', 'abstract', 'electroni...</td>\n",
       "      <td>403711</td>\n",
       "      <td>../data/raw/403711_55313-hq.ogg</td>\n",
       "    </tr>\n",
       "    <tr>\n",
       "      <th>...</th>\n",
       "      <td>...</td>\n",
       "      <td>...</td>\n",
       "      <td>...</td>\n",
       "      <td>...</td>\n",
       "      <td>...</td>\n",
       "      <td>...</td>\n",
       "    </tr>\n",
       "    <tr>\n",
       "      <th>83</th>\n",
       "      <td>scaryscape_scarydoublethrill.wav</td>\n",
       "      <td>suonho</td>\n",
       "      <td>https://creativecommons.org/licenses/by/4.0/</td>\n",
       "      <td>['abstract', 'alien', 'ambience', 'ambient', '...</td>\n",
       "      <td>58958</td>\n",
       "      <td>../data/raw/58958_308-hq.ogg</td>\n",
       "    </tr>\n",
       "    <tr>\n",
       "      <th>84</th>\n",
       "      <td>Lounge Ambient Music Loop</td>\n",
       "      <td>orangefreesounds</td>\n",
       "      <td>http://creativecommons.org/licenses/by-nc/3.0/</td>\n",
       "      <td>['music-loop', 'atmosphere', 'chil-out', 'ambi...</td>\n",
       "      <td>242080</td>\n",
       "      <td>../data/raw/242080_4388723-hq.ogg</td>\n",
       "    </tr>\n",
       "    <tr>\n",
       "      <th>85</th>\n",
       "      <td>130_C_pad_01</td>\n",
       "      <td>DigitalUnderglow</td>\n",
       "      <td>http://creativecommons.org/publicdomain/zero/1.0/</td>\n",
       "      <td>['Retro', 'Synthwave', 'Pad', 'Keys', 'Synthes...</td>\n",
       "      <td>757714</td>\n",
       "      <td>../data/raw/757714_14904072-hq.ogg</td>\n",
       "    </tr>\n",
       "    <tr>\n",
       "      <th>86</th>\n",
       "      <td>Bass, Pad &amp; Piano.wav</td>\n",
       "      <td>D_A_G_A_Z</td>\n",
       "      <td>http://creativecommons.org/licenses/by/3.0/</td>\n",
       "      <td>['Electric-Dance-Music', 'Bass', 'Synthesizer'...</td>\n",
       "      <td>369268</td>\n",
       "      <td>../data/raw/369268_6795322-hq.ogg</td>\n",
       "    </tr>\n",
       "    <tr>\n",
       "      <th>87</th>\n",
       "      <td>daydream_pad.mp3</td>\n",
       "      <td>Beatcreeper</td>\n",
       "      <td>http://creativecommons.org/publicdomain/zero/1.0/</td>\n",
       "      <td>['atmosphere', 'electronic', 'trance', 'deep',...</td>\n",
       "      <td>254914</td>\n",
       "      <td>../data/raw/254914_4727683-hq.ogg</td>\n",
       "    </tr>\n",
       "  </tbody>\n",
       "</table>\n",
       "<p>88 rows × 6 columns</p>\n",
       "</div>"
      ],
      "text/plain": [
       "                                                 name             username  \\\n",
       "0                                     Data Corruption          staticpony1   \n",
       "1   20131203_Electronic Device Buzzing _ZoomH2nXY.wav  Soundscape_Leuphana   \n",
       "2                                              HUM 34           pabloperez   \n",
       "3                                              HUM 33           pabloperez   \n",
       "4                                              HUM 15           pabloperez   \n",
       "..                                                ...                  ...   \n",
       "83                   scaryscape_scarydoublethrill.wav               suonho   \n",
       "84                          Lounge Ambient Music Loop     orangefreesounds   \n",
       "85                                       130_C_pad_01     DigitalUnderglow   \n",
       "86                              Bass, Pad & Piano.wav            D_A_G_A_Z   \n",
       "87                                   daydream_pad.mp3          Beatcreeper   \n",
       "\n",
       "                                              license  \\\n",
       "0   http://creativecommons.org/publicdomain/zero/1.0/   \n",
       "1   http://creativecommons.org/publicdomain/zero/1.0/   \n",
       "2   http://creativecommons.org/publicdomain/zero/1.0/   \n",
       "3   http://creativecommons.org/publicdomain/zero/1.0/   \n",
       "4   http://creativecommons.org/publicdomain/zero/1.0/   \n",
       "..                                                ...   \n",
       "83       https://creativecommons.org/licenses/by/4.0/   \n",
       "84     http://creativecommons.org/licenses/by-nc/3.0/   \n",
       "85  http://creativecommons.org/publicdomain/zero/1.0/   \n",
       "86        http://creativecommons.org/licenses/by/3.0/   \n",
       "87  http://creativecommons.org/publicdomain/zero/1.0/   \n",
       "\n",
       "                                                 tags  freesound_id  \\\n",
       "0   ['Sounds', 'Electric', 'EDM', 'Soundscapes', '...        729455   \n",
       "1   ['device', 'noise', 'electronic', 'electric', ...        209660   \n",
       "2   ['sound', 'oscillator', 'abstract', 'electroni...        403708   \n",
       "3   ['sound', 'oscillator', 'abstract', 'electroni...        403709   \n",
       "4   ['sound', 'oscillator', 'abstract', 'electroni...        403711   \n",
       "..                                                ...           ...   \n",
       "83  ['abstract', 'alien', 'ambience', 'ambient', '...         58958   \n",
       "84  ['music-loop', 'atmosphere', 'chil-out', 'ambi...        242080   \n",
       "85  ['Retro', 'Synthwave', 'Pad', 'Keys', 'Synthes...        757714   \n",
       "86  ['Electric-Dance-Music', 'Bass', 'Synthesizer'...        369268   \n",
       "87  ['atmosphere', 'electronic', 'trance', 'deep',...        254914   \n",
       "\n",
       "                                  path  \n",
       "0    ../data/raw/729455_4508519-hq.ogg  \n",
       "1    ../data/raw/209660_3844637-hq.ogg  \n",
       "2      ../data/raw/403708_55313-hq.ogg  \n",
       "3      ../data/raw/403709_55313-hq.ogg  \n",
       "4      ../data/raw/403711_55313-hq.ogg  \n",
       "..                                 ...  \n",
       "83        ../data/raw/58958_308-hq.ogg  \n",
       "84   ../data/raw/242080_4388723-hq.ogg  \n",
       "85  ../data/raw/757714_14904072-hq.ogg  \n",
       "86   ../data/raw/369268_6795322-hq.ogg  \n",
       "87   ../data/raw/254914_4727683-hq.ogg  \n",
       "\n",
       "[88 rows x 6 columns]"
      ]
     },
     "metadata": {},
     "output_type": "display_data"
    }
   ],
   "source": [
    "# Load the metadata DataFrame to verify its contents.\n",
    "df_loaded = pd.read_csv(config.DATAFRAME_FILENAME)\n",
    "display(df_loaded)\n"
   ]
  }
 ],
 "metadata": {
  "kernelspec": {
   "display_name": "freesound",
   "language": "python",
   "name": "python3"
  },
  "language_info": {
   "codemirror_mode": {
    "name": "ipython",
    "version": 3
   },
   "file_extension": ".py",
   "mimetype": "text/x-python",
   "name": "python",
   "nbconvert_exporter": "python",
   "pygments_lexer": "ipython3",
   "version": "3.10.13"
  }
 },
 "nbformat": 4,
 "nbformat_minor": 2
}
