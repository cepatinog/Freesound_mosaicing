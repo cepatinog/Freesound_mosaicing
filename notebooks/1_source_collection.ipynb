{
 "cells": [
  {
   "cell_type": "markdown",
   "metadata": {},
   "source": [
    "# Building a Collection of Fonts from Freesound\n",
    "\n",
    "In this notebook, we will develop our own collection of \"fonts\" (i.e., curated sound samples) by querying the Freesound API. The code is structured in a modular way: all functionality is encapsulated in the modules under our `src/` folder. Here, we'll go step by step—querying Freesound, downloading sound previews, and storing metadata in a CSV file.\n",
    "\n"
   ]
  },
  {
   "cell_type": "markdown",
   "metadata": {},
   "source": [
    "## Environment Setup and Imports"
   ]
  },
  {
   "cell_type": "code",
   "execution_count": 1,
   "metadata": {},
   "outputs": [
    {
     "name": "stdout",
     "output_type": "stream",
     "text": [
      "Freesound API Key: zr5kUObkkKtoSIiWGRPG6DPNUMOxdU1ercdOGcaJ\n",
      "Files Directory: data/raw\n",
      "Metadata CSV File: data/metadata/fonts_collection.csv\n"
     ]
    }
   ],
   "source": [
    "# Ensure that your virtual environment is activated and dependencies are installed (see requirements.txt).\n",
    "\n",
    "# Import configuration settings and utility modules from src\n",
    "import os\n",
    "import pandas as pd\n",
    "import sys\n",
    "\n",
    "# Añadir la ruta absoluta del directorio raíz del proyecto\n",
    "sys.path.append(os.path.abspath(\"..\"))\n",
    "\n",
    "# Our configuration file contains API keys, file paths, etc.\n",
    "from src import config  \n",
    "# Our sound_collection module includes functions to query Freesound and process sound records.\n",
    "from src.sound_collection import query_freesound, download_sound_preview, make_metadata_record\n",
    "\n",
    "# Display configuration to confirm settings\n",
    "print(\"Freesound API Key:\", config.FREESOUND_API_KEY)\n",
    "print(\"Files Directory:\", config.FILES_DIR)\n",
    "print(\"Metadata CSV File:\", config.DATAFRAME_FILENAME)\n"
   ]
  }
 ],
 "metadata": {
  "kernelspec": {
   "display_name": "freesound",
   "language": "python",
   "name": "python3"
  },
  "language_info": {
   "codemirror_mode": {
    "name": "ipython",
    "version": 3
   },
   "file_extension": ".py",
   "mimetype": "text/x-python",
   "name": "python",
   "nbconvert_exporter": "python",
   "pygments_lexer": "ipython3",
   "version": "3.10.13"
  }
 },
 "nbformat": 4,
 "nbformat_minor": 2
}
